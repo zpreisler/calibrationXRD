{
 "cells": [
  {
   "cell_type": "code",
   "execution_count": 1,
   "id": "41a4a0cf",
   "metadata": {},
   "outputs": [],
   "source": [
    "from database import DatabaseXRD,snip\n",
    "from numpy import loadtxt,diag,arange,linspace,sin,concatenate,array,exp,pi,zeros,ones,prod,newaxis,arctan,savetxt,c_,fabs,sqrt,concatenate\n",
    "from numpy.random import normal\n",
    "from numpy.linalg import pinv,inv\n",
    "from scipy.optimize import curve_fit,least_squares\n",
    "from scipy.interpolate import interp1d\n",
    "from scipy.signal import find_peaks\n",
    "\n",
    "from matplotlib.pyplot import plot,show,vlines,xlim,ylim,figure,semilogx,scatter\n",
    "\n",
    "from glob import glob\n",
    "\n",
    "from scipy import signal\n",
    "from numpy import fft,pad"
   ]
  },
  {
   "cell_type": "markdown",
   "id": "6f67a08d",
   "metadata": {},
   "source": [
    "$f = \\dfrac{1}{f_{\\max}}\\displaystyle\\sum_j f_j $\n",
    "\n",
    "$f_j = I_j \\gamma_j e^{\\dfrac{-\\frac{1}{2}(x-(\\mu_j+\\Delta_j))^2}{\\sigma_j^2}}$\n",
    "\n",
    "where $I$ is the intensity, $\\gamma$ if correction to intensity \n",
    "\n",
    "$f = \\dfrac{1}{f_{\\max}}  \\displaystyle\\sum_j I_j \\gamma_j e^{\\dfrac{-\\frac{1}{2}(x-(\\mu_j+\\Delta_j))^2}{\\sigma_j^2}}$\n",
    "\n",
    "$\\dfrac{\\partial f}{\\partial \\sigma^2_j} = \\dfrac{\\partial f_j}{\\partial \\sigma^2_j} - f_j\\dfrac{1}{{f_\\max}^2}\\dfrac{\\partial f_{\\max}}{\\partial \\sigma^2_j} $\n",
    "\n",
    "since $f_\\max = 1$\n",
    "\n",
    "$\\dfrac{\\partial f}{\\partial \\sigma^2_j} = \\dfrac{\\partial f_j}{\\partial \\sigma^2_j} - f_j\\dfrac{\\partial f_{\\max}}{\\partial \\sigma^2_j} $\n",
    "\n",
    "$\\dfrac{\\partial f_j}{\\partial \\sigma^2_j} = \\dfrac{1}{2}\\dfrac{[x-(\\mu_j+\\Delta_j)]^2}{\\sigma_j^4}f_j$\n",
    "\n",
    "following the above\n",
    "\n",
    "$\\dfrac{\\partial f_j}{\\partial \\gamma_j} = I_j e^{\\dfrac{-\\frac{1}{2}(x-(\\mu_j+\\Delta_j))^2}{\\sigma_j^2}} $\n",
    "\n",
    "$\\dfrac{\\partial f_j}{\\partial \\Delta_j} = \\dfrac{x - (\\mu + \\Delta)}{\\sigma^2} f_j$"
   ]
  },
  {
   "cell_type": "markdown",
   "id": "f507bea1",
   "metadata": {},
   "source": [
    "Rewriting $x$ as a function of the calibration curve\n",
    "\n",
    "$f_j = I_j \\gamma_j e^{-\\dfrac{\\frac{1}{2}(g(\\Omega;a,b,c,d)-\\mu_j)^2}{\\sigma_j^2}}$\n",
    "\n",
    "here $\\Omega$ denotes channels\n",
    "\n",
    "$x \\equiv g(\\Omega) = a + b\\Omega + c\\Omega^2 + d\\Omega^3$ \n",
    "\n",
    "$f_j = I_j \\gamma_j e^{-\\dfrac{\\frac{1}{2}(a + b\\Omega + c\\Omega^2 + d\\Omega^3-\\mu_j)^2}{\\sigma_j^2}}$\n",
    "\n",
    "$\\dfrac{\\partial f_j}{\\partial a} = -\\dfrac{ 1}{\\sigma_j^2}(a + b\\Omega + c\\Omega^2 + d\\Omega^3 - \\mu_j) f_j$\n",
    "\n",
    "$= -\\dfrac{ 1}{\\sigma_j^2}(g(\\Omega) - \\mu_j) f_j$\n",
    "\n",
    "$\\dfrac{\\partial f_j}{\\partial b} = -\\dfrac{ \\Omega (g(\\Omega) - \\mu_j) }{\\sigma_j^2}f_j  $\n",
    "\n",
    "$\\dfrac{\\partial f_j}{\\partial c} = -\\dfrac{ \\Omega^2 (g(\\Omega) - \\mu_j) }{\\sigma_j^2}f_j  $\n",
    "\n",
    "$\\dfrac{\\partial f_j}{\\partial d} = -\\dfrac{ \\Omega^3 (g(\\Omega) - \\mu_j) }{\\sigma_j^2}f_j  $"
   ]
  },
  {
   "cell_type": "markdown",
   "id": "f3102f4f",
   "metadata": {},
   "source": [
    "Geometric fucntion\n",
    "\n",
    "$\\theta = \\dfrac{180}{\\pi} \\tan^{-1}\\left(\\dfrac{x + a}{s}\\right) + \\beta$\n",
    "\n",
    "\n",
    "\n",
    "$x$ and $a$ in the units of channels. $s$ is also in the units of channels and it rescales the detector range.\n",
    "$\\beta[^\\circ]$ is an angle.\n",
    "\n",
    "$\\dfrac{\\partial\\theta}{\\partial s} = -\\dfrac{180}{\\pi} \\dfrac{a+x}{a^2+2ax+s^2+x^2}= -\\dfrac{180}{\\pi} \\dfrac{a+x}{(a+x)^2+s^2}$\n",
    "\n",
    "$\\dfrac{\\partial\\theta}{\\partial a} = \\dfrac{180}{\\pi} \\dfrac{s}{a^2+2ax+s^2+x^2} = \\dfrac{180}{\\pi} \\dfrac{s}{(a+x)^2+s^2}$\n",
    "\n",
    "$\\dfrac{\\partial\\theta}{\\partial \\beta} = 1$\n",
    "\n",
    "$\\theta = \\dfrac{180}{\\pi}\\left[ \\tan^{-1}\\left(\\dfrac{x + a}{z\\sin\\left(\\beta\\right)}\\right) + \\beta\\right]$\n",
    "\n",
    "here $\\beta$ is in radians\n",
    "\n",
    "$\\dfrac{\\partial\\theta}{\\partial z} = -\\dfrac{180}{\\pi}\\dfrac{(a + x) \\csc(\\beta)}{z^2 + (a + x)^2 \\csc^2(\\beta)}$\n",
    "\n",
    "$\\dfrac{\\partial\\theta}{\\partial a} = \\dfrac{180}{\\pi}\\dfrac{z \\csc(\\beta)}{z^2 + (a + x)^2 \\csc^2(\\beta))}$\n",
    "\n",
    "$\\dfrac{\\partial\\theta}{\\partial \\beta} = \\dfrac{180}{\\pi} \\left[ 1 - \\dfrac{z (a + x) \\cot(\\beta) \\csc(\\beta)}{z^2 + (a + x)^2 \\csc^2(\\beta)} \\right]$"
   ]
  },
  {
   "cell_type": "markdown",
   "id": "97cedf17",
   "metadata": {},
   "source": [
    "Rewriting $x$ as a function of the calibration curve\n",
    "\n",
    "$f_j = I_j \\gamma_j e^{-\\dfrac{\\frac{1}{2}(g(\\Omega;a,b,s)-\\mu_j)^2}{\\sigma_j^2}}$\n",
    "\n",
    "here $\\Omega$ denotes channels\n",
    "\n",
    "$x \\equiv g(\\Omega) = \\dfrac{180}{\\pi} \\tan^{-1}\\left(\\dfrac{\\Omega + a}{s}\\right) + \\beta$ \n",
    "\n",
    "$f_j = I_j \\gamma_j e^{-\\dfrac{\\frac{1}{2}\\left[\\dfrac{180}{\\pi} \\tan^{-1}\\left(\\dfrac{\\Omega + a}{s}\\right) + \\beta-\\mu_j\\right]^2}{\\sigma_j^2}}$\n",
    "\n",
    "$\\dfrac{\\partial f_j}{\\partial a} = -\\dfrac{ 1}{\\sigma_j^2}\\dfrac{\\partial g(\\Omega)}{\\partial a}(g(\\Omega) - \\mu_j) f_j$"
   ]
  },
  {
   "cell_type": "code",
   "execution_count": 2,
   "id": "6657886f",
   "metadata": {},
   "outputs": [],
   "source": [
    "class Spectra():\n",
    "    \n",
    "    def __init__(self,file=None):\n",
    "        if file:\n",
    "            self.read_from_file(file)\n",
    "    \n",
    "    def read_from_file(self,file):\n",
    "        self.theta,self.intensity = loadtxt(file,unpack=True)\n",
    "        self.channel = arange(1280)\n",
    "        \n",
    "    def calibration_fce(self,x,a,b,s):\n",
    "        return (arctan((x+a)/s)) * 180 / pi + b\n",
    "    \n",
    "    def calibrate_from_file(self,file):           \n",
    "        \n",
    "        x,y = loadtxt(file,unpack=True)\n",
    "        (self.a,self.b,self.s),(opt_var) = curve_fit(self.calibration_fce,x,y)\n",
    "        \n",
    "        self.theta = self.calibration_fce(self.channel,self.a,self.b,self.s)\n",
    "        \n",
    "        return self\n",
    "    \n",
    "    @property\n",
    "    def _theta(self):\n",
    "        return self.calibration_fce(self.channel,self.a,self.b,self.s)\n",
    "    \n",
    "    def snip(self,m = 24,s = 0):\n",
    "\n",
    "        y = self.intensity\n",
    "        y = y - snip(y,m) - s\n",
    "        self.intensity = y/y.max()\n",
    "        \n",
    "        return self\n",
    "    \n",
    "    def convolve(self,off=128,w=32):\n",
    "        win = signal.windows.gaussian(2*off-1,32)\n",
    "\n",
    "        y = self.intensity\n",
    "        y_pad = pad(y,(off,off),'edge')\n",
    "\n",
    "        f = fft.rfft(y_pad)\n",
    "        w = fft.rfft(win,y_pad.shape[-1])\n",
    "        v = fft.irfft(w * f)\n",
    "\n",
    "        v = v[off*2:]\n",
    "        self.v = v/v.max()\n",
    "        \n",
    "        return self\n",
    "        \n",
    "    @property\n",
    "    def x(self):\n",
    "        return self.theta,self.intensity"
   ]
  },
  {
   "cell_type": "code",
   "execution_count": 3,
   "id": "476d81dd",
   "metadata": {},
   "outputs": [],
   "source": [
    "class GaussNewton():\n",
    "    \n",
    "    def __init__(self,phase,spectra):\n",
    "        \n",
    "        self.phase = phase\n",
    "        self.spectra = spectra\n",
    "        \n",
    "        self.phase.get_theta(l=[1.541,1.391],scale=[1.0,0.008])     \n",
    "        f = (self.phase.theta < 51) & (self.phase.intensity > 0.003)\n",
    "        \n",
    "        self.mu = self.phase.theta[f]\n",
    "        self.intensity = self.phase.intensity[f]\n",
    "        \n",
    "        self.sigma2 = array([0.02] * len(self.mu))\n",
    "        self.gamma = ones(len(self.mu))\n",
    "\n",
    "    def gauss(self,x,mu,sigma2):\n",
    "        return exp(-0.5 * (x - mu)**2 / sigma2)\n",
    "    \n",
    "    def dsigma(self,x,mu,sigma2):\n",
    "        return 0.5 * (x - mu)**2 / sigma2**2\n",
    "\n",
    "    def da(self,channel,x,a,s,mu,sigma2):\n",
    "        return -1.0/sigma2 * 180/pi * s/((a+channel)**2+s**2) * (x-mu)\n",
    "    \n",
    "    def ds(self,channel,x,a,s,mu,sigma2):\n",
    "        return 1.0/sigma2 * 180/pi * (a+channel)/((a+channel)**2+s**2) * (x-mu)\n",
    "    \n",
    "    def db(self,x,mu,sigma2):\n",
    "        return -1.0/sigma2 * (x - mu)\n",
    "\n",
    "    def _sigma2(self):\n",
    "        \n",
    "        d = []\n",
    "        z = zeros(len(self.spectra.channel))\n",
    "        \n",
    "        dsigma2 = []\n",
    "        dgamma = []\n",
    "        \n",
    "        da = zeros(len(self.spectra.channel))\n",
    "        dc = zeros(len(self.spectra.channel))\n",
    "        \n",
    "        db = zeros(len(self.spectra.channel))\n",
    "        \n",
    "        s = len(self.sigma2)\n",
    "        \n",
    "        \"\"\"\n",
    "        Loop over all peaks\n",
    "        \"\"\"\n",
    "        x = self.spectra._theta\n",
    "        y = self.spectra.intensity\n",
    "        \n",
    "        for mu,I,sigma2,gamma in zip(self.mu,self.intensity,self.sigma2,self.gamma):\n",
    "\n",
    "            c = self.gauss(x,mu,sigma2)\n",
    "            h = gamma * I * c\n",
    "            z += h\n",
    "            \n",
    "            dsigma2 += [h * self.dsigma(x,mu,sigma2)]\n",
    "            dgamma += [I * c]\n",
    "                       \n",
    "            da += h * self.da(self.spectra.channel,x,self.spectra.a,self.spectra.s,mu,sigma2)\n",
    "            dc += h * self.ds(self.spectra.channel,x,self.spectra.a,self.spectra.s,mu,sigma2)\n",
    "            \n",
    "            db += h * self.db(x,mu,sigma2)\n",
    "        \n",
    "        z = z/z.max()\n",
    "        jmax = z.argmax()\n",
    "        dz = y - z\n",
    "    \n",
    "        d = dsigma2 + dgamma + [da,db,dc]\n",
    "        \n",
    "        d = array(d).T\n",
    "        \n",
    "        dfmax = z[:,newaxis] * d[jmax]\n",
    "        d = d - dfmax\n",
    "\n",
    "        dr = pinv(d) @ dz\n",
    "        \n",
    "        sigma2 = self.sigma2 + dr[:s]\n",
    "        \n",
    "        if any(sigma2<0):\n",
    "\n",
    "            lower = (sigma2 < 0)\n",
    "            d[:,:s][:,lower] *= 2\n",
    "\n",
    "            dr = pinv(d) @ dz\n",
    "\n",
    "            sigma2 = self.sigma2 + dr[:s]\n",
    "        \n",
    "        if any(sigma2<0):\n",
    "            lower = (sigma2 < 0)\n",
    "            d[:,:s][:,lower] = 0\n",
    "\n",
    "            dr = pinv(d) @ dz\n",
    "\n",
    "            sigma2 = self.sigma2 + dr[:s]\n",
    "            \n",
    "        self.z = z\n",
    "\n",
    "        self.sigma2 = sigma2\n",
    "        self.gamma += dr[s:2*s]\n",
    "        \n",
    "        #print(dr[2*s:])\n",
    "        #print(self.spectra.a,self.spectra.b,self.spectra.s)\n",
    "        \n",
    "        self.spectra.a += dr[2*s]\n",
    "        self.spectra.b += dr[2*s+1]\n",
    "        self.spectra.s += dr[2*s+2]\n",
    "    \n",
    "        self.loss = sum(dz**2)\n",
    "        \n",
    "        \n",
    "    def _abs(self):\n",
    "        \n",
    "        d = []\n",
    "        z = zeros(len(self.spectra.channel))\n",
    "        \n",
    "        da = zeros(len(self.spectra.channel))\n",
    "        dc = zeros(len(self.spectra.channel))\n",
    "        \n",
    "        db = zeros(len(self.spectra.channel))\n",
    "        \n",
    "        s = len(self.sigma2)\n",
    "        \n",
    "        \"\"\"\n",
    "        Loop over all peaks\n",
    "        \"\"\"\n",
    "        x = self.spectra._theta\n",
    "        y = self.spectra.v\n",
    "        \n",
    "        for mu,I,sigma2,gamma in zip(self.mu,self.intensity,self.sigma2,self.gamma):\n",
    "\n",
    "            c = self.gauss(x,mu,sigma2)\n",
    "            h = gamma * I * c\n",
    "            z += h\n",
    "                       \n",
    "            da += h * self.da(self.spectra.channel,x,self.spectra.a,self.spectra.s,mu,sigma2)\n",
    "            dc += h * self.ds(self.spectra.channel,x,self.spectra.a,self.spectra.s,mu,sigma2)\n",
    "            \n",
    "            db += h * self.db(x,mu,sigma2)\n",
    "        \n",
    "        z = z/z.max()\n",
    "        jmax = z.argmax()\n",
    "        dz = y - z\n",
    "    \n",
    "        d = [da,db,dc]\n",
    "        \n",
    "        d = array(d).T\n",
    "        \n",
    "        dfmax = z[:,newaxis] * d[jmax]\n",
    "        d = d - dfmax\n",
    "\n",
    "        dr = pinv(d) @ dz\n",
    "                   \n",
    "        self.z = z\n",
    "        \n",
    "        self.spectra.a += dr[0]*0.1\n",
    "        self.spectra.b += dr[1]*0.1\n",
    "        self.spectra.s += dr[2]*0.1\n",
    "    \n",
    "        self.loss = sum(dz**2)\n",
    "        \n",
    "    def _abs0(self):\n",
    "        \n",
    "        d = []\n",
    "        z = zeros(len(self.spectra.channel))\n",
    "        \n",
    "        da = zeros(len(self.spectra.channel))\n",
    "        dc = zeros(len(self.spectra.channel))\n",
    "        \n",
    "        db = zeros(len(self.spectra.channel))\n",
    "        \n",
    "        s = len(self.sigma2)\n",
    "        \n",
    "        \"\"\"\n",
    "        Loop over all peaks\n",
    "        \"\"\"\n",
    "        x = self.spectra._theta\n",
    "        y = self.spectra.intensity\n",
    "        \n",
    "        for mu,I,sigma2,gamma in zip(self.mu,self.intensity,self.sigma2,self.gamma):\n",
    "\n",
    "            c = self.gauss(x,mu,sigma2)\n",
    "            h = gamma * I * c\n",
    "            z += h\n",
    "                       \n",
    "            da += h * self.da(self.spectra.channel,x,self.spectra.a,self.spectra.s,mu,sigma2)\n",
    "            dc += h * self.ds(self.spectra.channel,x,self.spectra.a,self.spectra.s,mu,sigma2)\n",
    "            \n",
    "            db += h * self.db(x,mu,sigma2)\n",
    "        \n",
    "        z = z/z.max()\n",
    "        jmax = z.argmax()\n",
    "        dz = y - z\n",
    "    \n",
    "        d = [da,db,dc]\n",
    "        \n",
    "        d = array(d).T\n",
    "        \n",
    "        dfmax = z[:,newaxis] * d[jmax]\n",
    "        d = d - dfmax\n",
    "\n",
    "        dr = pinv(d) @ dz\n",
    "                   \n",
    "        self.z = z\n",
    "        \n",
    "        self.spectra.a += dr[0]*0.1\n",
    "        self.spectra.b += dr[1]*0.1\n",
    "        self.spectra.s += dr[2]*0.1\n",
    "    \n",
    "        self.loss = sum(dz**2)"
   ]
  },
  {
   "cell_type": "code",
   "execution_count": 4,
   "id": "e0b545e9",
   "metadata": {},
   "outputs": [],
   "source": [
    "d = DatabaseXRD().read_cifs('Database/')\n",
    "calcite = d['Calcite'][0]"
   ]
  },
  {
   "cell_type": "code",
   "execution_count": 5,
   "id": "3bf82490",
   "metadata": {},
   "outputs": [
    {
     "data": {
      "text/plain": [
       "(-1264.3276462685521, 50.86970182232233, 2060.8620215486594)"
      ]
     },
     "execution_count": 5,
     "metadata": {},
     "output_type": "execute_result"
    }
   ],
   "source": [
    "spectra = Spectra('roi_0.dat').calibrate_from_file('Calibrazione.txt').snip()\n",
    "spectra.a,spectra.b,spectra.s"
   ]
  },
  {
   "cell_type": "code",
   "execution_count": 6,
   "id": "764da0b7",
   "metadata": {},
   "outputs": [],
   "source": [
    "g = GaussNewton(calcite,spectra)\n",
    "for i in range(12):\n",
    "    g._sigma2()"
   ]
  },
  {
   "cell_type": "code",
   "execution_count": 7,
   "id": "c6327b5a",
   "metadata": {},
   "outputs": [
    {
     "data": {
      "text/plain": [
       "(19.323474143010568, 51.29294458260172)"
      ]
     },
     "execution_count": 7,
     "metadata": {},
     "output_type": "execute_result"
    }
   ],
   "source": [
    "%matplotlib qt\n",
    "\n",
    "figure(figsize=(15,6))\n",
    "plot(g.spectra._theta,g.z)\n",
    "plot(g.spectra._theta,g.spectra.intensity,'k',lw=1)\n",
    "\n",
    "vlines(g.mu,0,1,'k',ls='--',lw=0.5)\n",
    "vlines(g.mu,0,g.intensity * g.gamma,'r',ls='--')\n",
    "\n",
    "ylim(0,1)\n",
    "xlim(g.spectra._theta[0],g.spectra._theta[-1])"
   ]
  },
  {
   "cell_type": "code",
   "execution_count": 8,
   "id": "b7df2f28",
   "metadata": {},
   "outputs": [
    {
     "data": {
      "text/plain": [
       "(-1256.739240605666, 50.67466534389972, 2062.8188284000944)"
      ]
     },
     "execution_count": 8,
     "metadata": {},
     "output_type": "execute_result"
    }
   ],
   "source": [
    "plot(g.spectra.channel,g.spectra._theta)\n",
    "a,b,s = g.spectra.a,g.spectra.b,g.spectra.s\n",
    "a,b,s"
   ]
  },
  {
   "cell_type": "code",
   "execution_count": 9,
   "id": "3d4aa07f",
   "metadata": {},
   "outputs": [
    {
     "data": {
      "text/plain": [
       "(-1264.3276462685521, 50.86970182232233, 2060.8620215486594)"
      ]
     },
     "execution_count": 9,
     "metadata": {},
     "output_type": "execute_result"
    }
   ],
   "source": [
    "spectra = Spectra('Calcite/Calcite300sL0154meno/Frame0001.dat').calibrate_from_file('Calibrazione.txt').snip(s=64)\n",
    "spectra.convolve()\n",
    "\n",
    "spectra.a,spectra.b,spectra.s"
   ]
  },
  {
   "cell_type": "code",
   "execution_count": 10,
   "id": "e3ce8f37",
   "metadata": {},
   "outputs": [
    {
     "name": "stdout",
     "output_type": "stream",
     "text": [
      "init: -1264.3276462685521 50.86970182232233 2060.8620215486594\n",
      "19.340812403382703 51.277613527342126\n"
     ]
    }
   ],
   "source": [
    "print('init:',spectra.a,spectra.b,spectra.s)\n",
    "\n",
    "g = GaussNewton(calcite,spectra)\n",
    "g.sigma2 = [1]*len(g.sigma2)\n",
    "\n",
    "print(g.spectra._theta[0],g.spectra._theta[-1])\n",
    "\n",
    "for i in range(128):\n",
    "    g._abs()"
   ]
  },
  {
   "cell_type": "code",
   "execution_count": 11,
   "id": "7ed2325e",
   "metadata": {},
   "outputs": [],
   "source": [
    "g.sigma2 = [0.05]*len(g.sigma2)\n",
    "\n",
    "for i in range(128):\n",
    "    g._sigma2()"
   ]
  },
  {
   "cell_type": "code",
   "execution_count": 12,
   "id": "d0d51aeb",
   "metadata": {},
   "outputs": [
    {
     "data": {
      "text/plain": [
       "(20.327062359853624, 54.117736929387)"
      ]
     },
     "execution_count": 12,
     "metadata": {},
     "output_type": "execute_result"
    },
    {
     "data": {
      "image/png": "[encoded data removed]",
      "text/plain": [
       "<Figure size 1080x432 with 1 Axes>"
      ]
     },
     "metadata": {
      "needs_background": "light"
     },
     "output_type": "display_data"
    }
   ],
   "source": [
    "#%matplotlib qt\n",
    "%matplotlib inline\n",
    "figure(figsize=(15,6))\n",
    "plot(g.spectra._theta,g.z)\n",
    "plot(g.spectra._theta,g.spectra.intensity,'k',lw=1)\n",
    "plot(g.spectra._theta,g.spectra.v,'g',lw=1)\n",
    "\n",
    "vlines(g.mu,0,1,'k',ls='--',lw=0.5)\n",
    "vlines(g.mu,0,g.intensity * g.gamma,'r',ls='--')\n",
    "\n",
    "ylim(0,1)\n",
    "xlim(g.spectra._theta[0],g.spectra._theta[-1])"
   ]
  },
  {
   "cell_type": "code",
   "execution_count": 13,
   "id": "13be1f92",
   "metadata": {},
   "outputs": [
    {
     "data": {
      "text/plain": [
       "[<matplotlib.lines.Line2D at 0x7f15e9649610>]"
      ]
     },
     "execution_count": 13,
     "metadata": {},
     "output_type": "execute_result"
    }
   ],
   "source": [
    "%matplotlib qt\n",
    "figure(figsize=(15,6))\n",
    "plot(g.spectra.channel,g.z)\n",
    "plot(g.spectra.channel,g.spectra.intensity,'k',lw=1)"
   ]
  },
  {
   "cell_type": "code",
   "execution_count": 14,
   "id": "9c44b7e6",
   "metadata": {},
   "outputs": [
    {
     "data": {
      "text/plain": [
       "[<matplotlib.lines.Line2D at 0x7f15e9b8bb80>]"
      ]
     },
     "execution_count": 14,
     "metadata": {},
     "output_type": "execute_result"
    }
   ],
   "source": [
    "plot(g.spectra.channel,g.spectra._theta)"
   ]
  },
  {
   "cell_type": "code",
   "execution_count": 15,
   "id": "b155f3e2",
   "metadata": {},
   "outputs": [
    {
     "name": "stdout",
     "output_type": "stream",
     "text": [
      "Calcite/Calcite300sL0154meno/Frame0001.dat -154\n",
      "Calcite/Calcite300sL0104meno/Frame0001.dat -104\n",
      "Calcite/Calcite300sL0054meno/Frame0001.dat -54\n",
      "Calcite/Calcite300sL0005/Frame0001.dat 5\n",
      "Calcite/Calcite300sL0057/Frame0001.dat 57\n",
      "Calcite/Calcite300sL0108/Frame0001.dat 108\n",
      "Calcite/Calcite300sL0149/Frame0001.dat 149\n"
     ]
    }
   ],
   "source": [
    "files = glob('Calcite/*/Frame0001.dat')\n",
    "\n",
    "def ssort(x):\n",
    "    _s = x.find('L')\n",
    "    t = x[_s+1:_s+5]\n",
    "    t = int(t)\n",
    "    if x[_s+5] == 'm':\n",
    "        t *= -1\n",
    "    return t\n",
    "\n",
    "G = []\n",
    "for file in sorted(files,key=ssort):\n",
    "    print(file,ssort(file))\n",
    "    \n",
    "    spectra = Spectra(file).calibrate_from_file('Calibrazione.txt').snip(s=64)\n",
    "    spectra.convolve()\n",
    "    \n"
   ]
  },
  {
   "cell_type": "code",
   "execution_count": 16,
   "id": "1c12c982",
   "metadata": {},
   "outputs": [
    {
     "name": "stdout",
     "output_type": "stream",
     "text": [
      "Calcite/Calcite300sL0154meno/Frame0001.dat -154\n",
      "Calcite/Calcite300sL0104meno/Frame0001.dat -104\n",
      "Calcite/Calcite300sL0054meno/Frame0001.dat -54\n",
      "Calcite/Calcite300sL0005/Frame0001.dat 5\n",
      "Calcite/Calcite300sL0057/Frame0001.dat 57\n",
      "Calcite/Calcite300sL0108/Frame0001.dat 108\n",
      "Calcite/Calcite300sL0149/Frame0001.dat 149\n"
     ]
    }
   ],
   "source": [
    "files = glob('Calcite/*/Frame0001.dat')\n",
    "\n",
    "def ssort(x):\n",
    "    _s = x.find('L')\n",
    "    t = x[_s+1:_s+5]\n",
    "    t = int(t)\n",
    "    if x[_s+5] == 'm':\n",
    "        t *= -1\n",
    "    return t\n",
    "\n",
    "G = []\n",
    "for file in sorted(files,key=ssort):\n",
    "    print(file,ssort(file))\n",
    "    spectra = Spectra(file).calibrate_from_file('Calibrazione.txt').snip(s=64)\n",
    "    spectra.convolve()\n",
    "    g = GaussNewton(calcite,spectra)\n",
    "    g.sigma2 = [1]*len(g.sigma2)\n",
    "\n",
    "    for i in range(128):\n",
    "        g._abs()\n",
    "        \n",
    "    g.sigma2 = [0.1]*len(g.sigma2)\n",
    "    for i in range(128):\n",
    "        g._sigma2()\n",
    "        \n",
    "    #if g.sigma2[0] > 0.03:\n",
    "    #    g.sigma2[0] = 0.03\n",
    "        \n",
    "    #g.gamma[0] = 1.0\n",
    "    \n",
    "    #for i in range(128):\n",
    "    #    g._abs0()\n",
    "    p=(find_peaks(spectra.intensity,height=0.14,distance=34))\n",
    "    \n",
    "    g.p = p\n",
    "    g.file = file\n",
    "    g.zeta = ssort(file)\n",
    "        \n",
    "    G += [g]\n",
    "    \n",
    "    #plot(g.spectra.channel,g.spectra.intensity,'k',lw=1)"
   ]
  },
  {
   "cell_type": "code",
   "execution_count": 130,
   "id": "4d28010e",
   "metadata": {},
   "outputs": [
    {
     "name": "stdout",
     "output_type": "stream",
     "text": [
      "2 [ 388 1050]\n",
      "2 [ 385 1048]\n",
      "2 [ 383 1043]\n",
      "2 [ 379 1038]\n",
      "4 [ 379  752 1034 1069]\n",
      "6 [ 374  616  750  880 1030 1066]\n",
      "5 [ 373  613  877 1028 1063]\n"
     ]
    }
   ],
   "source": [
    "for g in G:\n",
    "    print(len(g.p[0]),g.p[0])"
   ]
  },
  {
   "cell_type": "code",
   "execution_count": 24,
   "id": "376599a9",
   "metadata": {},
   "outputs": [
    {
     "data": {
      "image/png": "[encoded data removed]",
      "text/plain": [
       "<Figure size 432x288 with 1 Axes>"
      ]
     },
     "metadata": {
      "needs_background": "light"
     },
     "output_type": "display_data"
    }
   ],
   "source": [
    "for i,g in enumerate(G):\n",
    "    plot(g.spectra.channel,g.spectra.intensity+i*0.3)\n",
    "    vlines(g.p[0],i*0.3,i*0.3+1,'k',ls='--',lw=0.5)"
   ]
  },
  {
   "cell_type": "code",
   "execution_count": 27,
   "id": "af2eeef8",
   "metadata": {},
   "outputs": [],
   "source": [
    "%matplotlib qt\n",
    "\n",
    "for i,g in enumerate(G):\n",
    "    plot(g.spectra._theta,g.z+i*0.3)\n",
    "    plot(g.spectra._theta,g.spectra.intensity+i*0.3)\n",
    "    \n",
    "    vlines(g.mu,0,3,'k',ls='--',lw=0.5)"
   ]
  },
  {
   "cell_type": "code",
   "execution_count": 18,
   "id": "831bb1ac",
   "metadata": {},
   "outputs": [
    {
     "name": "stdout",
     "output_type": "stream",
     "text": [
      "Calcite/Calcite300sL0154meno/Frame0001.dat -1143.1120926325152 50.209977100410775 1989.3053310870762\n",
      "Calcite/Calcite300sL0104meno/Frame0001.dat -1101.6559310356163 49.084865143873564 2003.0450374232132\n",
      "Calcite/Calcite300sL0054meno/Frame0001.dat -1087.3032247356518 48.782644429687885 2003.1855841080192\n",
      "Calcite/Calcite300sL0005/Frame0001.dat -1107.8454550226295 49.54853355391021 1985.8252571345818\n",
      "Calcite/Calcite300sL0057/Frame0001.dat -1132.0604553673309 50.346640352693065 1975.2348104274247\n",
      "Calcite/Calcite300sL0108/Frame0001.dat -1125.1066143168728 50.236130450294816 1979.3902936014983\n",
      "Calcite/Calcite300sL0149/Frame0001.dat -1109.8975479083344 49.853502462177296 1986.5291922318656\n"
     ]
    },
    {
     "data": {
      "text/plain": [
       "(20.0, 55.0)"
      ]
     },
     "execution_count": 18,
     "metadata": {},
     "output_type": "execute_result"
    },
    {
     "data": {
      "image/png": "[encoded data removed]",
      "text/plain": [
       "<Figure size 432x288 with 1 Axes>"
      ]
     },
     "metadata": {
      "needs_background": "light"
     },
     "output_type": "display_data"
    }
   ],
   "source": [
    "%matplotlib inline\n",
    "for g in G:\n",
    "    plot(g.spectra.channel,g.spectra._theta,lw=1)\n",
    "    print(g.file,g.spectra.a,g.spectra.b,g.spectra.s)\n",
    "    \n",
    "\n",
    "xlim(0,1280)\n",
    "ylim(20,55)"
   ]
  },
  {
   "cell_type": "code",
   "execution_count": 19,
   "id": "00725a3f",
   "metadata": {},
   "outputs": [],
   "source": [
    "zeta = array([g.zeta for g in G])\n",
    "ga = array([g.spectra.a for g in G])\n",
    "gb = array([g.spectra.b for g in G])\n",
    "gs = array([g.spectra.s for g in G])\n",
    "\n",
    "gz = gs / sin(gb/180*pi)\n",
    "\n",
    "gsigma = array([g.sigma2 for g in G])\n",
    "ggamma = array([g.gamma for g in G])\n",
    "\n",
    "gt0 = array([g.spectra._theta[0] for g in G])\n",
    "gtm = array([g.spectra._theta[-1] for g in G])"
   ]
  },
  {
   "cell_type": "code",
   "execution_count": 20,
   "id": "833a2aa5",
   "metadata": {},
   "outputs": [
    {
     "data": {
      "text/plain": [
       "array([[0.5575199 , 2.71789606, 2.08777983, 1.66753471, 0.56001013,\n",
       "        0.91240097, 1.23424173, 2.03962332, 3.84165359, 1.2834447 ],\n",
       "       [0.22170979, 1.60156651, 1.9098883 , 1.21694565, 0.46975541,\n",
       "        0.83759581, 0.96980983, 1.94889619, 3.42660647, 1.11256042],\n",
       "       [0.24171293, 2.47461567, 1.66102868, 1.22784872, 0.40892186,\n",
       "        0.73980734, 0.75329612, 1.34371562, 2.41354019, 0.91453656],\n",
       "       [0.24917069, 2.76322063, 1.42299951, 1.15554877, 0.451938  ,\n",
       "        0.71229787, 0.76941891, 0.44653464, 1.71892333, 0.85891389],\n",
       "       [0.48358391, 1.92320413, 1.85707259, 1.83517468, 0.94869467,\n",
       "        1.27553659, 1.44254309, 0.96784318, 3.09913904, 1.52333798],\n",
       "       [0.74087714, 0.71000265, 1.65733473, 1.99363226, 1.36994167,\n",
       "        1.09355608, 1.5993836 , 1.48832891, 3.50214269, 1.52161774],\n",
       "       [1.04305967, 0.69112955, 1.95210573, 2.66743328, 2.17759546,\n",
       "        1.26386783, 1.9858282 , 2.33570245, 4.74488978, 1.98484275]])"
      ]
     },
     "execution_count": 20,
     "metadata": {},
     "output_type": "execute_result"
    }
   ],
   "source": [
    "ggamma"
   ]
  },
  {
   "cell_type": "code",
   "execution_count": 21,
   "id": "7d3c85f3",
   "metadata": {},
   "outputs": [
    {
     "data": {
      "text/plain": [
       "[<matplotlib.lines.Line2D at 0x7f15e9359c10>]"
      ]
     },
     "execution_count": 21,
     "metadata": {},
     "output_type": "execute_result"
    },
    {
     "data": {
      "image/png": "[encoded data removed]",
      "text/plain": [
       "<Figure size 432x288 with 1 Axes>"
      ]
     },
     "metadata": {
      "needs_background": "light"
     },
     "output_type": "display_data"
    }
   ],
   "source": [
    "%matplotlib inline\n",
    "\n",
    "plot(zeta,gs-gs.mean(),'x-')\n",
    "plot(zeta,ga-ga.mean(),'+-')\n",
    "plot(zeta,gz-gz.mean(),'+-')"
   ]
  },
  {
   "cell_type": "code",
   "execution_count": 22,
   "id": "84a604fb",
   "metadata": {},
   "outputs": [
    {
     "data": {
      "text/plain": [
       "[<matplotlib.lines.Line2D at 0x7f15e92d2100>]"
      ]
     },
     "execution_count": 22,
     "metadata": {},
     "output_type": "execute_result"
    },
    {
     "data": {
      "image/png": "[encoded data removed]",
      "text/plain": [
       "<Figure size 432x288 with 1 Axes>"
      ]
     },
     "metadata": {
      "needs_background": "light"
     },
     "output_type": "display_data"
    }
   ],
   "source": [
    "%matplotlib inline\n",
    "\n",
    "plot(zeta,gb,'x-')"
   ]
  },
  {
   "cell_type": "code",
   "execution_count": 23,
   "id": "9224c4ad",
   "metadata": {},
   "outputs": [
    {
     "data": {
      "text/plain": [
       "[<matplotlib.lines.Line2D at 0x7f15e92bde80>]"
      ]
     },
     "execution_count": 23,
     "metadata": {},
     "output_type": "execute_result"
    },
    {
     "data": {
      "image/png": "[encoded data removed]",
      "text/plain": [
       "<Figure size 432x288 with 1 Axes>"
      ]
     },
     "metadata": {
      "needs_background": "light"
     },
     "output_type": "display_data"
    }
   ],
   "source": [
    "%matplotlib inline\n",
    "\n",
    "plot(zeta,gt0,'x-')\n",
    "plot(zeta,gtm-33.7,'x-')"
   ]
  },
  {
   "cell_type": "code",
   "execution_count": null,
   "id": "03145aa3",
   "metadata": {},
   "outputs": [],
   "source": []
  }
 ],
 "metadata": {
  "kernelspec": {
   "display_name": "Python 3 (ipykernel)",
   "language": "python",
   "name": "python3"
  },
  "language_info": {
   "codemirror_mode": {
    "name": "ipython",
    "version": 3
   },
   "file_extension": ".py",
   "mimetype": "text/x-python",
   "name": "python",
   "nbconvert_exporter": "python",
   "pygments_lexer": "ipython3",
   "version": "3.9.9"
  }
 },
 "nbformat": 4,
 "nbformat_minor": 5
}
