{
 "cells": [
  {
   "cell_type": "markdown",
   "id": "6f67a08d",
   "metadata": {},
   "source": [
    "\n",
    "Geometric calibration fucntion\n",
    "\n",
    "$\\theta = \\dfrac{180}{\\pi} \\tan^{-1}\\left(\\dfrac{x + a}{s}\\right) + \\beta$\n",
    "\n",
    "$x$ and $a$ in the units of the length of a channel. $s$ is also in the units of the lenght of the channel and it rescales the detector range.\n",
    "Above $\\beta[^\\circ]$ is an angle in degrees.\n",
    "\n",
    "Alternativaly you can rewrite $s$ as\n",
    "\n",
    "$\\theta = \\dfrac{180}{\\pi}\\left[ \\tan^{-1}\\left(\\dfrac{x + a}{z\\sin\\left(\\beta\\right)}\\right) + \\beta\\right]$\n",
    "\n",
    "here $\\beta$ is in radians.\n",
    "\n",
    "$\\beta$ is the degree between the plane of the detector and the plane of the sample. $a$ is the displacement of the detector\n",
    "\n",
    "\n",
    "To put the calibration curve centered around zero of the arctan I assume I shold solve the following:\n",
    "\n",
    "$ \\dfrac{180}{\\pi} \\tan^{-1}\\left(\\dfrac{640}{s}\\right) = 50 - \\beta$\n",
    "\n",
    "$ \\dfrac{180}{\\pi} \\tan^{-1}\\left(\\dfrac{-640}{s}\\right) = 20 - \\beta$\n",
    "\n",
    "i.e. you put for the $\\theta_\\max: x - a = 1280 - 640 = 640$ and for the $\\theta_\\min: x - a = 0 - 640 = -640$. 640 = 1280/2 is the middle of your detector in the unit of channels.\n",
    "\n",
    "I get $\\beta = 35^{\\circ}$ and $s = 640/\\tan(15) = 2389$\n",
    "\n",
    "Current $s$ is 2060 so I expect you need to move the detector a little bit further away from the sample."
   ]
  }
 ],
 "metadata": {
  "kernelspec": {
   "display_name": "Python 3 (ipykernel)",
   "language": "python",
   "name": "python3"
  },
  "language_info": {
   "codemirror_mode": {
    "name": "ipython",
    "version": 3
   },
   "file_extension": ".py",
   "mimetype": "text/x-python",
   "name": "python",
   "nbconvert_exporter": "python",
   "pygments_lexer": "ipython3",
   "version": "3.9.9"
  }
 },
 "nbformat": 4,
 "nbformat_minor": 5
}
